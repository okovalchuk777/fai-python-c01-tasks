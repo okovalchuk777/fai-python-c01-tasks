{
 "cells": [
  {
   "cell_type": "markdown",
   "id": "4b112ac1",
   "metadata": {},
   "source": [
    "## Задача 1"
   ]
  },
  {
   "cell_type": "markdown",
   "id": "d6630920",
   "metadata": {},
   "source": [
    "### На складе лежат разные фрукты в разном количестве. <br>Нужно написать функцию, которая на вход принимает любое количество названий фруктов и их количество, а возвращает общее количество фруктов на складе"
   ]
  },
  {
   "cell_type": "code",
   "execution_count": 134,
   "id": "1f4a770c",
   "metadata": {},
   "outputs": [],
   "source": [
    "def fruit_counter(**fruits) -> int:\n",
    "    return sum([k for i,k in fruits.items()])"
   ]
  },
  {
   "cell_type": "code",
   "execution_count": 135,
   "id": "0097c7e1",
   "metadata": {},
   "outputs": [
    {
     "data": {
      "text/plain": [
       "148"
      ]
     },
     "execution_count": 135,
     "metadata": {},
     "output_type": "execute_result"
    }
   ],
   "source": [
    "fruit_counter(груши=10, яблоки=5, Абрикос=100, апельсин=33)"
   ]
  },
  {
   "cell_type": "markdown",
   "id": "7cd1df3a",
   "metadata": {},
   "source": [
    "## Задача 2"
   ]
  },
  {
   "cell_type": "markdown",
   "id": "674493b6",
   "metadata": {},
   "source": [
    "### Дан список с затратами на рекламу. Но в данных есть ошибки, некоторые затраты имеют отрицательную величину. Удалите такие значения из списка и посчитайте суммарные затраты. <br> Используйте list comprehensions."
   ]
  },
  {
   "cell_type": "code",
   "execution_count": 136,
   "id": "6f9447be",
   "metadata": {},
   "outputs": [],
   "source": [
    "expenses = [100, 125, -90, 345, 655, -1, 0, 200]"
   ]
  },
  {
   "cell_type": "code",
   "execution_count": 137,
   "id": "4c0a3090",
   "metadata": {},
   "outputs": [
    {
     "data": {
      "text/plain": [
       "1425"
      ]
     },
     "execution_count": 137,
     "metadata": {},
     "output_type": "execute_result"
    }
   ],
   "source": [
    "count = sum([i for i in expenses if i > 0])\n",
    "count"
   ]
  },
  {
   "cell_type": "markdown",
   "id": "817aea1d",
   "metadata": {},
   "source": [
    "## Задача 3"
   ]
  },
  {
   "cell_type": "markdown",
   "id": "97d5724f",
   "metadata": {},
   "source": [
    "### Даны два списка. Дата покупки и суммы покупок по датам."
   ]
  },
  {
   "cell_type": "code",
   "execution_count": 138,
   "id": "b279ab18",
   "metadata": {},
   "outputs": [],
   "source": [
    "purchase_date = ['2021-09-14', '2021-12-15', '2021-09-08', '2021-12-05', '2021-10-09', '2021-09-30', '2021-12-22', '2021-11-29', '2021-12-24', '2021-11-26', '2021-10-27', '2021-12-18', '2021-11-09', '2021-11-23', '2021-09-27', '2021-10-02', '2021-12-27', '2021-09-20', '2021-12-13', '2021-11-01', '2021-11-09', '2021-12-06', '2021-12-08', '2021-10-09', '2021-10-31', '2021-09-30', '2021-11-09', '2021-12-13', '2021-10-26', '2021-12-09']"
   ]
  },
  {
   "cell_type": "code",
   "execution_count": 139,
   "id": "67c55079",
   "metadata": {},
   "outputs": [],
   "source": [
    "purchase_amount = [1270, 8413, 9028, 3703, 5739, 4095, 295, 4944, 5723, 3701, 4471, 651, 7037, 4274, 6275, 4988, 6930, 2971, 6592, 2004, 2822, 519, 3406, 2732, 5015, 2008, 316, 6333, 5700, 2887]"
   ]
  },
  {
   "cell_type": "markdown",
   "id": "91391d94",
   "metadata": {},
   "source": [
    "### 3.1 Найдите, какая выручка у компании в ноябре. <br> Используйте list comprehensions."
   ]
  },
  {
   "cell_type": "code",
   "execution_count": 140,
   "id": "4b2b95b2",
   "metadata": {},
   "outputs": [
    {
     "name": "stdout",
     "output_type": "stream",
     "text": [
      "25098\n"
     ]
    }
   ],
   "source": [
    "purchase_date02 = [i.split('-') for i in purchase_date]\n",
    "month = '11'\n",
    "revenue_in_month = sum([i[1] for i in zip(purchase_date02, purchase_amount) if i[0][1] == month])\n",
    "print(revenue_in_month)"
   ]
  },
  {
   "cell_type": "markdown",
   "id": "2dfee359",
   "metadata": {},
   "source": [
    "### 3.2 Найдите выручку компании в зависимости от месяца. <br> Для этого напишите функцию, которая на вход принимает список с датами и список с выручкой, а на выходе словарь, где ключи - это месяцы, а значения - это выручка. <br> Используйте аннотирование типов."
   ]
  },
  {
   "cell_type": "code",
   "execution_count": 141,
   "id": "543ce2e6",
   "metadata": {},
   "outputs": [],
   "source": [
    "def revenue_by_month(list01: list, list02: list) -> dict:\n",
    "    list01 = [i.split('-') for i in list01]\n",
    "    dict_of_months = {'1': 'January', '2': 'February', '3': 'March', '4': 'April', '5': 'May', '6': 'June', '7': 'July', '8': 'August', '9': 'September', '10': 'October', '11': 'November', '12': 'December'}\n",
    "    dict01 = {}\n",
    "    for i in range(1,13):\n",
    "        month = str(i)\n",
    "        revenue_in_month = sum([i[1] for i in zip(list01, list02) if i[0][1] == month])\n",
    "        if revenue_in_month > 0:  # убираем месяца с нулевым доходом\n",
    "            dict01[dict_of_months[month]] = revenue_in_month\n",
    "    return dict01\n"
   ]
  },
  {
   "cell_type": "code",
   "execution_count": 142,
   "id": "d5f5ee2f",
   "metadata": {},
   "outputs": [
    {
     "data": {
      "text/plain": [
       "{'October': 28645, 'November': 25098, 'December': 45452}"
      ]
     },
     "execution_count": 142,
     "metadata": {},
     "output_type": "execute_result"
    }
   ],
   "source": [
    "revenue_by_month(purchase_date, purchase_amount)"
   ]
  }
 ],
 "metadata": {
  "kernelspec": {
   "display_name": "Python 3 (ipykernel)",
   "language": "python",
   "name": "python3"
  },
  "language_info": {
   "codemirror_mode": {
    "name": "ipython",
    "version": 3
   },
   "file_extension": ".py",
   "mimetype": "text/x-python",
   "name": "python",
   "nbconvert_exporter": "python",
   "pygments_lexer": "ipython3",
   "version": "3.9.7"
  }
 },
 "nbformat": 4,
 "nbformat_minor": 5
}
