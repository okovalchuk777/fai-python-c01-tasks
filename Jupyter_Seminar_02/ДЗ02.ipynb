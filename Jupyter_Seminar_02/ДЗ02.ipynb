{
 "cells": [
  {
   "cell_type": "markdown",
   "id": "9492e6f7",
   "metadata": {},
   "source": [
    "## Урок 2. Анализ датасета с помощью Pandas"
   ]
  },
  {
   "cell_type": "markdown",
   "id": "6142da78",
   "metadata": {},
   "source": [
    "Дополнительные материалы:"
   ]
  },
  {
   "cell_type": "markdown",
   "id": "07f022b5",
   "metadata": {},
   "source": [
    "https://towardsdatascience.com/regression-using-sklearn-on-kc-housing-dataset-1ac80ca3d6d4"
   ]
  },
  {
   "cell_type": "markdown",
   "id": "fe7765fe",
   "metadata": {},
   "source": [
    "https://www.marcellod.tech/2022/09/14/data-analysis-with-python-project-(ibm-data-science-certification)"
   ]
  },
  {
   "cell_type": "code",
   "execution_count": 127,
   "id": "b5842f35",
   "metadata": {},
   "outputs": [],
   "source": [
    "import pandas as pd"
   ]
  },
  {
   "cell_type": "code",
   "execution_count": 128,
   "id": "8a3b38d7",
   "metadata": {},
   "outputs": [],
   "source": [
    "# https://stackoverflow.com/questions/49188960/how-to-show-all-columns-names-on-a-large-pandas-dataframe\n",
    "# You can globally set printing options. This will allow you to see all column names & rows when you are doing .head().\n",
    "# None of the column name will be truncated.\n",
    "pd.options.display.max_columns = None\n",
    "pd.options.display.max_rows = None"
   ]
  },
  {
   "cell_type": "markdown",
   "id": "0c35372a",
   "metadata": {},
   "source": [
    "### Задача 1"
   ]
  },
  {
   "cell_type": "markdown",
   "id": "c3689c49",
   "metadata": {},
   "source": [
    "#### Скачать файл в уроке kc_house_data.csv и считать данные с помощью pandas"
   ]
  },
  {
   "cell_type": "code",
   "execution_count": 129,
   "id": "a9ec9a51",
   "metadata": {},
   "outputs": [],
   "source": [
    "df = pd.read_csv(\"./kc_house_data.csv\")"
   ]
  },
  {
   "cell_type": "markdown",
   "id": "845047a9",
   "metadata": {},
   "source": [
    "Описание датасета:"
   ]
  },
  {
   "cell_type": "markdown",
   "id": "74cf8746",
   "metadata": {},
   "source": [
    "The dataset contains house sale prices for King County, which includes Seattle. It includes home sold between May 2014 and May 2015"
   ]
  },
  {
   "cell_type": "markdown",
   "id": "75cf9fc7",
   "metadata": {},
   "source": [
    "Описание столбцов:"
   ]
  },
  {
   "cell_type": "markdown",
   "id": "71797268",
   "metadata": {},
   "source": [
    "**id** :a notation for a house<br>\n",
    "**date**: Date house was sold (Дата дом был продан)<br>\n",
    "**price**: Price is prediction target (Цена является прогнозной целью)<br>\n",
    "**bedrooms**: Number of Bedrooms/House (Количество спален)<br>\n",
    "**bathrooms**: Number of bathrooms/bedrooms (Количество ванных комнат)<br>\n",
    "**sqft_living**: square footage of the home (Площадь дома)<br>\n",
    "**sqft_lot**: square footage of the lot (Площадь дома со двором)<br>\n",
    "**floors**:Total floors (levels) in house (Общее количество этажей (уровней) в доме)<br>\n",
    "**waterfront**: House which has a view to a waterfront (Дом с видом на набережную)<br>\n",
    "**view**: Has been viewed (Вид)<br>\n",
    "**condition**: How good the condition is Overall (Насколько хорошее состояние в целом)<br>\n",
    "**grade**: overall grade given to the housing unit, based on King County grading system (общий класс, присвоенный жилищной единице)<br>\n",
    "**sqft_above**:square footage of house apart from basement (Площадь дома без подвала)<br>\n",
    "**sqft_basement**: square footage of the basement (Площадь подвала)<br>\n",
    "**yr_built**: Built Year (Год постройки)<br>\n",
    "**yr_renovated**:Year when house was renovated (Год, когда дом был отремонтирован)<br>\n",
    "**zipcode**:zip code (Индекс)<br>\n",
    "**lat**: Latitude coordinate (Координата широты)<br>\n",
    "**long**: Longitude coordinate (Координата долготы)<br>\n",
    "**sqft_living15**: Living room area in 2015 (implies-- some renovations) This might or might not have affected the lotsize area (Площадь гостиной в 2015 году (подразумевает - некоторые ремонты) Это могло повлиять или не повлиять на площадь lotsize)<br>\n",
    "**sqft_lot15**: lotSize area in 2015 (implies-- some renovations) (Площадь lotSize в 2015 году (подразумевается - некоторые ремонтные работы))<br>\n",
    "Примечание:<br>\n",
    "1 (square foot) = 0.09290304 square meters"
   ]
  },
  {
   "cell_type": "markdown",
   "id": "3012224f",
   "metadata": {},
   "source": [
    "#### Вывести на экран первые 5 строк"
   ]
  },
  {
   "cell_type": "code",
   "execution_count": 130,
   "id": "08bc74c7",
   "metadata": {},
   "outputs": [
    {
     "data": {
      "text/html": [
       "<div>\n",
       "<style scoped>\n",
       "    .dataframe tbody tr th:only-of-type {\n",
       "        vertical-align: middle;\n",
       "    }\n",
       "\n",
       "    .dataframe tbody tr th {\n",
       "        vertical-align: top;\n",
       "    }\n",
       "\n",
       "    .dataframe thead th {\n",
       "        text-align: right;\n",
       "    }\n",
       "</style>\n",
       "<table border=\"1\" class=\"dataframe\">\n",
       "  <thead>\n",
       "    <tr style=\"text-align: right;\">\n",
       "      <th></th>\n",
       "      <th>id</th>\n",
       "      <th>date</th>\n",
       "      <th>price</th>\n",
       "      <th>bedrooms</th>\n",
       "      <th>bathrooms</th>\n",
       "      <th>sqft_living</th>\n",
       "      <th>sqft_lot</th>\n",
       "      <th>floors</th>\n",
       "      <th>waterfront</th>\n",
       "      <th>view</th>\n",
       "      <th>condition</th>\n",
       "      <th>grade</th>\n",
       "      <th>sqft_above</th>\n",
       "      <th>sqft_basement</th>\n",
       "      <th>yr_built</th>\n",
       "      <th>yr_renovated</th>\n",
       "      <th>zipcode</th>\n",
       "      <th>lat</th>\n",
       "      <th>long</th>\n",
       "      <th>sqft_living15</th>\n",
       "      <th>sqft_lot15</th>\n",
       "    </tr>\n",
       "  </thead>\n",
       "  <tbody>\n",
       "    <tr>\n",
       "      <th>0</th>\n",
       "      <td>7129300520</td>\n",
       "      <td>20141013T000000</td>\n",
       "      <td>221900.0</td>\n",
       "      <td>3</td>\n",
       "      <td>1.00</td>\n",
       "      <td>1180</td>\n",
       "      <td>5650</td>\n",
       "      <td>1.0</td>\n",
       "      <td>0</td>\n",
       "      <td>0</td>\n",
       "      <td>3</td>\n",
       "      <td>7</td>\n",
       "      <td>1180</td>\n",
       "      <td>0</td>\n",
       "      <td>1955</td>\n",
       "      <td>0</td>\n",
       "      <td>98178</td>\n",
       "      <td>47.5112</td>\n",
       "      <td>-122.257</td>\n",
       "      <td>1340</td>\n",
       "      <td>5650</td>\n",
       "    </tr>\n",
       "    <tr>\n",
       "      <th>1</th>\n",
       "      <td>6414100192</td>\n",
       "      <td>20141209T000000</td>\n",
       "      <td>538000.0</td>\n",
       "      <td>3</td>\n",
       "      <td>2.25</td>\n",
       "      <td>2570</td>\n",
       "      <td>7242</td>\n",
       "      <td>2.0</td>\n",
       "      <td>0</td>\n",
       "      <td>0</td>\n",
       "      <td>3</td>\n",
       "      <td>7</td>\n",
       "      <td>2170</td>\n",
       "      <td>400</td>\n",
       "      <td>1951</td>\n",
       "      <td>1991</td>\n",
       "      <td>98125</td>\n",
       "      <td>47.7210</td>\n",
       "      <td>-122.319</td>\n",
       "      <td>1690</td>\n",
       "      <td>7639</td>\n",
       "    </tr>\n",
       "    <tr>\n",
       "      <th>2</th>\n",
       "      <td>5631500400</td>\n",
       "      <td>20150225T000000</td>\n",
       "      <td>180000.0</td>\n",
       "      <td>2</td>\n",
       "      <td>1.00</td>\n",
       "      <td>770</td>\n",
       "      <td>10000</td>\n",
       "      <td>1.0</td>\n",
       "      <td>0</td>\n",
       "      <td>0</td>\n",
       "      <td>3</td>\n",
       "      <td>6</td>\n",
       "      <td>770</td>\n",
       "      <td>0</td>\n",
       "      <td>1933</td>\n",
       "      <td>0</td>\n",
       "      <td>98028</td>\n",
       "      <td>47.7379</td>\n",
       "      <td>-122.233</td>\n",
       "      <td>2720</td>\n",
       "      <td>8062</td>\n",
       "    </tr>\n",
       "    <tr>\n",
       "      <th>3</th>\n",
       "      <td>2487200875</td>\n",
       "      <td>20141209T000000</td>\n",
       "      <td>604000.0</td>\n",
       "      <td>4</td>\n",
       "      <td>3.00</td>\n",
       "      <td>1960</td>\n",
       "      <td>5000</td>\n",
       "      <td>1.0</td>\n",
       "      <td>0</td>\n",
       "      <td>0</td>\n",
       "      <td>5</td>\n",
       "      <td>7</td>\n",
       "      <td>1050</td>\n",
       "      <td>910</td>\n",
       "      <td>1965</td>\n",
       "      <td>0</td>\n",
       "      <td>98136</td>\n",
       "      <td>47.5208</td>\n",
       "      <td>-122.393</td>\n",
       "      <td>1360</td>\n",
       "      <td>5000</td>\n",
       "    </tr>\n",
       "    <tr>\n",
       "      <th>4</th>\n",
       "      <td>1954400510</td>\n",
       "      <td>20150218T000000</td>\n",
       "      <td>510000.0</td>\n",
       "      <td>3</td>\n",
       "      <td>2.00</td>\n",
       "      <td>1680</td>\n",
       "      <td>8080</td>\n",
       "      <td>1.0</td>\n",
       "      <td>0</td>\n",
       "      <td>0</td>\n",
       "      <td>3</td>\n",
       "      <td>8</td>\n",
       "      <td>1680</td>\n",
       "      <td>0</td>\n",
       "      <td>1987</td>\n",
       "      <td>0</td>\n",
       "      <td>98074</td>\n",
       "      <td>47.6168</td>\n",
       "      <td>-122.045</td>\n",
       "      <td>1800</td>\n",
       "      <td>7503</td>\n",
       "    </tr>\n",
       "  </tbody>\n",
       "</table>\n",
       "</div>"
      ],
      "text/plain": [
       "           id             date     price  bedrooms  bathrooms  sqft_living  \\\n",
       "0  7129300520  20141013T000000  221900.0         3       1.00         1180   \n",
       "1  6414100192  20141209T000000  538000.0         3       2.25         2570   \n",
       "2  5631500400  20150225T000000  180000.0         2       1.00          770   \n",
       "3  2487200875  20141209T000000  604000.0         4       3.00         1960   \n",
       "4  1954400510  20150218T000000  510000.0         3       2.00         1680   \n",
       "\n",
       "   sqft_lot  floors  waterfront  view  condition  grade  sqft_above  \\\n",
       "0      5650     1.0           0     0          3      7        1180   \n",
       "1      7242     2.0           0     0          3      7        2170   \n",
       "2     10000     1.0           0     0          3      6         770   \n",
       "3      5000     1.0           0     0          5      7        1050   \n",
       "4      8080     1.0           0     0          3      8        1680   \n",
       "\n",
       "   sqft_basement  yr_built  yr_renovated  zipcode      lat     long  \\\n",
       "0              0      1955             0    98178  47.5112 -122.257   \n",
       "1            400      1951          1991    98125  47.7210 -122.319   \n",
       "2              0      1933             0    98028  47.7379 -122.233   \n",
       "3            910      1965             0    98136  47.5208 -122.393   \n",
       "4              0      1987             0    98074  47.6168 -122.045   \n",
       "\n",
       "   sqft_living15  sqft_lot15  \n",
       "0           1340        5650  \n",
       "1           1690        7639  \n",
       "2           2720        8062  \n",
       "3           1360        5000  \n",
       "4           1800        7503  "
      ]
     },
     "execution_count": 130,
     "metadata": {},
     "output_type": "execute_result"
    }
   ],
   "source": [
    "df.head()"
   ]
  },
  {
   "cell_type": "code",
   "execution_count": 131,
   "id": "b22f6370",
   "metadata": {},
   "outputs": [
    {
     "data": {
      "text/plain": [
       "(21613, 21)"
      ]
     },
     "execution_count": 131,
     "metadata": {},
     "output_type": "execute_result"
    }
   ],
   "source": [
    "df.shape"
   ]
  },
  {
   "cell_type": "markdown",
   "id": "37486104",
   "metadata": {},
   "source": [
    "If you just want to see the column names you can do:"
   ]
  },
  {
   "cell_type": "code",
   "execution_count": 132,
   "id": "716d0a05",
   "metadata": {},
   "outputs": [
    {
     "data": {
      "text/plain": [
       "['id',\n",
       " 'date',\n",
       " 'price',\n",
       " 'bedrooms',\n",
       " 'bathrooms',\n",
       " 'sqft_living',\n",
       " 'sqft_lot',\n",
       " 'floors',\n",
       " 'waterfront',\n",
       " 'view',\n",
       " 'condition',\n",
       " 'grade',\n",
       " 'sqft_above',\n",
       " 'sqft_basement',\n",
       " 'yr_built',\n",
       " 'yr_renovated',\n",
       " 'zipcode',\n",
       " 'lat',\n",
       " 'long',\n",
       " 'sqft_living15',\n",
       " 'sqft_lot15']"
      ]
     },
     "execution_count": 132,
     "metadata": {},
     "output_type": "execute_result"
    }
   ],
   "source": [
    "df.columns.tolist()"
   ]
  },
  {
   "cell_type": "code",
   "execution_count": 133,
   "id": "361da3f1",
   "metadata": {},
   "outputs": [
    {
     "name": "stdout",
     "output_type": "stream",
     "text": [
      "<class 'pandas.core.frame.DataFrame'>\n",
      "RangeIndex: 21613 entries, 0 to 21612\n",
      "Data columns (total 21 columns):\n",
      " #   Column         Non-Null Count  Dtype  \n",
      "---  ------         --------------  -----  \n",
      " 0   id             21613 non-null  int64  \n",
      " 1   date           21613 non-null  object \n",
      " 2   price          21613 non-null  float64\n",
      " 3   bedrooms       21613 non-null  int64  \n",
      " 4   bathrooms      21613 non-null  float64\n",
      " 5   sqft_living    21613 non-null  int64  \n",
      " 6   sqft_lot       21613 non-null  int64  \n",
      " 7   floors         21613 non-null  float64\n",
      " 8   waterfront     21613 non-null  int64  \n",
      " 9   view           21613 non-null  int64  \n",
      " 10  condition      21613 non-null  int64  \n",
      " 11  grade          21613 non-null  int64  \n",
      " 12  sqft_above     21613 non-null  int64  \n",
      " 13  sqft_basement  21613 non-null  int64  \n",
      " 14  yr_built       21613 non-null  int64  \n",
      " 15  yr_renovated   21613 non-null  int64  \n",
      " 16  zipcode        21613 non-null  int64  \n",
      " 17  lat            21613 non-null  float64\n",
      " 18  long           21613 non-null  float64\n",
      " 19  sqft_living15  21613 non-null  int64  \n",
      " 20  sqft_lot15     21613 non-null  int64  \n",
      "dtypes: float64(5), int64(15), object(1)\n",
      "memory usage: 3.5+ MB\n"
     ]
    }
   ],
   "source": [
    "df.info()"
   ]
  },
  {
   "cell_type": "markdown",
   "id": "d85acfc3",
   "metadata": {},
   "source": [
    "### Задача 2"
   ]
  },
  {
   "cell_type": "markdown",
   "id": "fd7d34f5",
   "metadata": {},
   "source": [
    "Найдите количество пропущенных ячеек в данных"
   ]
  },
  {
   "cell_type": "markdown",
   "id": "45ca7e60",
   "metadata": {},
   "source": [
    "Calling sum() of the DataFrame returned by isnull() will give a series containing data about count of NaN in each column."
   ]
  },
  {
   "cell_type": "code",
   "execution_count": 134,
   "id": "706f123f",
   "metadata": {},
   "outputs": [
    {
     "data": {
      "text/plain": [
       "id               0\n",
       "date             0\n",
       "price            0\n",
       "bedrooms         0\n",
       "bathrooms        0\n",
       "sqft_living      0\n",
       "sqft_lot         0\n",
       "floors           0\n",
       "waterfront       0\n",
       "view             0\n",
       "condition        0\n",
       "grade            0\n",
       "sqft_above       0\n",
       "sqft_basement    0\n",
       "yr_built         0\n",
       "yr_renovated     0\n",
       "zipcode          0\n",
       "lat              0\n",
       "long             0\n",
       "sqft_living15    0\n",
       "sqft_lot15       0\n",
       "dtype: int64"
      ]
     },
     "execution_count": 134,
     "metadata": {},
     "output_type": "execute_result"
    }
   ],
   "source": [
    "df.isnull().sum()"
   ]
  },
  {
   "cell_type": "markdown",
   "id": "bdf15f57",
   "metadata": {},
   "source": [
    "Изучите типы данных"
   ]
  },
  {
   "cell_type": "code",
   "execution_count": 135,
   "id": "70e18adc",
   "metadata": {},
   "outputs": [
    {
     "data": {
      "text/html": [
       "<div>\n",
       "<style scoped>\n",
       "    .dataframe tbody tr th:only-of-type {\n",
       "        vertical-align: middle;\n",
       "    }\n",
       "\n",
       "    .dataframe tbody tr th {\n",
       "        vertical-align: top;\n",
       "    }\n",
       "\n",
       "    .dataframe thead th {\n",
       "        text-align: right;\n",
       "    }\n",
       "</style>\n",
       "<table border=\"1\" class=\"dataframe\">\n",
       "  <thead>\n",
       "    <tr style=\"text-align: right;\">\n",
       "      <th></th>\n",
       "      <th>id</th>\n",
       "      <th>price</th>\n",
       "      <th>bedrooms</th>\n",
       "      <th>bathrooms</th>\n",
       "      <th>sqft_living</th>\n",
       "      <th>sqft_lot</th>\n",
       "      <th>floors</th>\n",
       "      <th>waterfront</th>\n",
       "      <th>view</th>\n",
       "      <th>condition</th>\n",
       "      <th>grade</th>\n",
       "      <th>sqft_above</th>\n",
       "      <th>sqft_basement</th>\n",
       "      <th>yr_built</th>\n",
       "      <th>yr_renovated</th>\n",
       "      <th>zipcode</th>\n",
       "      <th>lat</th>\n",
       "      <th>long</th>\n",
       "      <th>sqft_living15</th>\n",
       "      <th>sqft_lot15</th>\n",
       "    </tr>\n",
       "  </thead>\n",
       "  <tbody>\n",
       "    <tr>\n",
       "      <th>count</th>\n",
       "      <td>21613.00000</td>\n",
       "      <td>21613.00000</td>\n",
       "      <td>21613.00000</td>\n",
       "      <td>21613.00000</td>\n",
       "      <td>21613.00000</td>\n",
       "      <td>21613.00000</td>\n",
       "      <td>21613.00000</td>\n",
       "      <td>21613.00000</td>\n",
       "      <td>21613.00000</td>\n",
       "      <td>21613.00000</td>\n",
       "      <td>21613.00000</td>\n",
       "      <td>21613.00000</td>\n",
       "      <td>21613.00000</td>\n",
       "      <td>21613.00000</td>\n",
       "      <td>21613.00000</td>\n",
       "      <td>21613.00000</td>\n",
       "      <td>21613.00000</td>\n",
       "      <td>21613.00000</td>\n",
       "      <td>21613.00000</td>\n",
       "      <td>21613.00000</td>\n",
       "    </tr>\n",
       "    <tr>\n",
       "      <th>mean</th>\n",
       "      <td>4580301520.86499</td>\n",
       "      <td>540088.14177</td>\n",
       "      <td>3.37084</td>\n",
       "      <td>2.11476</td>\n",
       "      <td>2079.89974</td>\n",
       "      <td>15106.96757</td>\n",
       "      <td>1.49431</td>\n",
       "      <td>0.00754</td>\n",
       "      <td>0.23430</td>\n",
       "      <td>3.40943</td>\n",
       "      <td>7.65687</td>\n",
       "      <td>1788.39069</td>\n",
       "      <td>291.50905</td>\n",
       "      <td>1971.00514</td>\n",
       "      <td>84.40226</td>\n",
       "      <td>98077.93980</td>\n",
       "      <td>47.56005</td>\n",
       "      <td>-122.21390</td>\n",
       "      <td>1986.55249</td>\n",
       "      <td>12768.45565</td>\n",
       "    </tr>\n",
       "    <tr>\n",
       "      <th>std</th>\n",
       "      <td>2876565571.31205</td>\n",
       "      <td>367127.19648</td>\n",
       "      <td>0.93006</td>\n",
       "      <td>0.77016</td>\n",
       "      <td>918.44090</td>\n",
       "      <td>41420.51152</td>\n",
       "      <td>0.53999</td>\n",
       "      <td>0.08652</td>\n",
       "      <td>0.76632</td>\n",
       "      <td>0.65074</td>\n",
       "      <td>1.17546</td>\n",
       "      <td>828.09098</td>\n",
       "      <td>442.57504</td>\n",
       "      <td>29.37341</td>\n",
       "      <td>401.67924</td>\n",
       "      <td>53.50503</td>\n",
       "      <td>0.13856</td>\n",
       "      <td>0.14083</td>\n",
       "      <td>685.39130</td>\n",
       "      <td>27304.17963</td>\n",
       "    </tr>\n",
       "    <tr>\n",
       "      <th>min</th>\n",
       "      <td>1000102.00000</td>\n",
       "      <td>75000.00000</td>\n",
       "      <td>0.00000</td>\n",
       "      <td>0.00000</td>\n",
       "      <td>290.00000</td>\n",
       "      <td>520.00000</td>\n",
       "      <td>1.00000</td>\n",
       "      <td>0.00000</td>\n",
       "      <td>0.00000</td>\n",
       "      <td>1.00000</td>\n",
       "      <td>1.00000</td>\n",
       "      <td>290.00000</td>\n",
       "      <td>0.00000</td>\n",
       "      <td>1900.00000</td>\n",
       "      <td>0.00000</td>\n",
       "      <td>98001.00000</td>\n",
       "      <td>47.15590</td>\n",
       "      <td>-122.51900</td>\n",
       "      <td>399.00000</td>\n",
       "      <td>651.00000</td>\n",
       "    </tr>\n",
       "    <tr>\n",
       "      <th>25%</th>\n",
       "      <td>2123049194.00000</td>\n",
       "      <td>321950.00000</td>\n",
       "      <td>3.00000</td>\n",
       "      <td>1.75000</td>\n",
       "      <td>1427.00000</td>\n",
       "      <td>5040.00000</td>\n",
       "      <td>1.00000</td>\n",
       "      <td>0.00000</td>\n",
       "      <td>0.00000</td>\n",
       "      <td>3.00000</td>\n",
       "      <td>7.00000</td>\n",
       "      <td>1190.00000</td>\n",
       "      <td>0.00000</td>\n",
       "      <td>1951.00000</td>\n",
       "      <td>0.00000</td>\n",
       "      <td>98033.00000</td>\n",
       "      <td>47.47100</td>\n",
       "      <td>-122.32800</td>\n",
       "      <td>1490.00000</td>\n",
       "      <td>5100.00000</td>\n",
       "    </tr>\n",
       "    <tr>\n",
       "      <th>50%</th>\n",
       "      <td>3904930410.00000</td>\n",
       "      <td>450000.00000</td>\n",
       "      <td>3.00000</td>\n",
       "      <td>2.25000</td>\n",
       "      <td>1910.00000</td>\n",
       "      <td>7618.00000</td>\n",
       "      <td>1.50000</td>\n",
       "      <td>0.00000</td>\n",
       "      <td>0.00000</td>\n",
       "      <td>3.00000</td>\n",
       "      <td>7.00000</td>\n",
       "      <td>1560.00000</td>\n",
       "      <td>0.00000</td>\n",
       "      <td>1975.00000</td>\n",
       "      <td>0.00000</td>\n",
       "      <td>98065.00000</td>\n",
       "      <td>47.57180</td>\n",
       "      <td>-122.23000</td>\n",
       "      <td>1840.00000</td>\n",
       "      <td>7620.00000</td>\n",
       "    </tr>\n",
       "    <tr>\n",
       "      <th>75%</th>\n",
       "      <td>7308900445.00000</td>\n",
       "      <td>645000.00000</td>\n",
       "      <td>4.00000</td>\n",
       "      <td>2.50000</td>\n",
       "      <td>2550.00000</td>\n",
       "      <td>10688.00000</td>\n",
       "      <td>2.00000</td>\n",
       "      <td>0.00000</td>\n",
       "      <td>0.00000</td>\n",
       "      <td>4.00000</td>\n",
       "      <td>8.00000</td>\n",
       "      <td>2210.00000</td>\n",
       "      <td>560.00000</td>\n",
       "      <td>1997.00000</td>\n",
       "      <td>0.00000</td>\n",
       "      <td>98118.00000</td>\n",
       "      <td>47.67800</td>\n",
       "      <td>-122.12500</td>\n",
       "      <td>2360.00000</td>\n",
       "      <td>10083.00000</td>\n",
       "    </tr>\n",
       "    <tr>\n",
       "      <th>max</th>\n",
       "      <td>9900000190.00000</td>\n",
       "      <td>7700000.00000</td>\n",
       "      <td>33.00000</td>\n",
       "      <td>8.00000</td>\n",
       "      <td>13540.00000</td>\n",
       "      <td>1651359.00000</td>\n",
       "      <td>3.50000</td>\n",
       "      <td>1.00000</td>\n",
       "      <td>4.00000</td>\n",
       "      <td>5.00000</td>\n",
       "      <td>13.00000</td>\n",
       "      <td>9410.00000</td>\n",
       "      <td>4820.00000</td>\n",
       "      <td>2015.00000</td>\n",
       "      <td>2015.00000</td>\n",
       "      <td>98199.00000</td>\n",
       "      <td>47.77760</td>\n",
       "      <td>-121.31500</td>\n",
       "      <td>6210.00000</td>\n",
       "      <td>871200.00000</td>\n",
       "    </tr>\n",
       "  </tbody>\n",
       "</table>\n",
       "</div>"
      ],
      "text/plain": [
       "                     id          price     bedrooms    bathrooms  sqft_living  \\\n",
       "count       21613.00000    21613.00000  21613.00000  21613.00000  21613.00000   \n",
       "mean   4580301520.86499   540088.14177      3.37084      2.11476   2079.89974   \n",
       "std    2876565571.31205   367127.19648      0.93006      0.77016    918.44090   \n",
       "min       1000102.00000    75000.00000      0.00000      0.00000    290.00000   \n",
       "25%    2123049194.00000   321950.00000      3.00000      1.75000   1427.00000   \n",
       "50%    3904930410.00000   450000.00000      3.00000      2.25000   1910.00000   \n",
       "75%    7308900445.00000   645000.00000      4.00000      2.50000   2550.00000   \n",
       "max    9900000190.00000  7700000.00000     33.00000      8.00000  13540.00000   \n",
       "\n",
       "            sqft_lot       floors   waterfront         view    condition  \\\n",
       "count    21613.00000  21613.00000  21613.00000  21613.00000  21613.00000   \n",
       "mean     15106.96757      1.49431      0.00754      0.23430      3.40943   \n",
       "std      41420.51152      0.53999      0.08652      0.76632      0.65074   \n",
       "min        520.00000      1.00000      0.00000      0.00000      1.00000   \n",
       "25%       5040.00000      1.00000      0.00000      0.00000      3.00000   \n",
       "50%       7618.00000      1.50000      0.00000      0.00000      3.00000   \n",
       "75%      10688.00000      2.00000      0.00000      0.00000      4.00000   \n",
       "max    1651359.00000      3.50000      1.00000      4.00000      5.00000   \n",
       "\n",
       "             grade   sqft_above sqft_basement     yr_built yr_renovated  \\\n",
       "count  21613.00000  21613.00000   21613.00000  21613.00000  21613.00000   \n",
       "mean       7.65687   1788.39069     291.50905   1971.00514     84.40226   \n",
       "std        1.17546    828.09098     442.57504     29.37341    401.67924   \n",
       "min        1.00000    290.00000       0.00000   1900.00000      0.00000   \n",
       "25%        7.00000   1190.00000       0.00000   1951.00000      0.00000   \n",
       "50%        7.00000   1560.00000       0.00000   1975.00000      0.00000   \n",
       "75%        8.00000   2210.00000     560.00000   1997.00000      0.00000   \n",
       "max       13.00000   9410.00000    4820.00000   2015.00000   2015.00000   \n",
       "\n",
       "           zipcode          lat         long sqft_living15    sqft_lot15  \n",
       "count  21613.00000  21613.00000  21613.00000   21613.00000   21613.00000  \n",
       "mean   98077.93980     47.56005   -122.21390    1986.55249   12768.45565  \n",
       "std       53.50503      0.13856      0.14083     685.39130   27304.17963  \n",
       "min    98001.00000     47.15590   -122.51900     399.00000     651.00000  \n",
       "25%    98033.00000     47.47100   -122.32800    1490.00000    5100.00000  \n",
       "50%    98065.00000     47.57180   -122.23000    1840.00000    7620.00000  \n",
       "75%    98118.00000     47.67800   -122.12500    2360.00000   10083.00000  \n",
       "max    98199.00000     47.77760   -121.31500    6210.00000  871200.00000  "
      ]
     },
     "execution_count": 135,
     "metadata": {},
     "output_type": "execute_result"
    }
   ],
   "source": [
    "df.describe().apply(lambda x: x.apply('{0:.5f}'.format))"
   ]
  },
  {
   "cell_type": "code",
   "execution_count": 136,
   "id": "d0373872",
   "metadata": {},
   "outputs": [
    {
     "data": {
      "text/html": [
       "<div>\n",
       "<style scoped>\n",
       "    .dataframe tbody tr th:only-of-type {\n",
       "        vertical-align: middle;\n",
       "    }\n",
       "\n",
       "    .dataframe tbody tr th {\n",
       "        vertical-align: top;\n",
       "    }\n",
       "\n",
       "    .dataframe thead th {\n",
       "        text-align: right;\n",
       "    }\n",
       "</style>\n",
       "<table border=\"1\" class=\"dataframe\">\n",
       "  <thead>\n",
       "    <tr style=\"text-align: right;\">\n",
       "      <th></th>\n",
       "      <th>date</th>\n",
       "    </tr>\n",
       "  </thead>\n",
       "  <tbody>\n",
       "    <tr>\n",
       "      <th>count</th>\n",
       "      <td>21613</td>\n",
       "    </tr>\n",
       "    <tr>\n",
       "      <th>unique</th>\n",
       "      <td>372</td>\n",
       "    </tr>\n",
       "    <tr>\n",
       "      <th>top</th>\n",
       "      <td>20140623T000000</td>\n",
       "    </tr>\n",
       "    <tr>\n",
       "      <th>freq</th>\n",
       "      <td>142</td>\n",
       "    </tr>\n",
       "  </tbody>\n",
       "</table>\n",
       "</div>"
      ],
      "text/plain": [
       "                   date\n",
       "count             21613\n",
       "unique              372\n",
       "top     20140623T000000\n",
       "freq                142"
      ]
     },
     "execution_count": 136,
     "metadata": {},
     "output_type": "execute_result"
    }
   ],
   "source": [
    "df.describe(include=\"object\")"
   ]
  },
  {
   "cell_type": "markdown",
   "id": "30da3c54",
   "metadata": {},
   "source": [
    "### Задача 3"
   ]
  },
  {
   "cell_type": "markdown",
   "id": "1228808a",
   "metadata": {},
   "source": [
    "В каком диапазоне изменяются стоимости недвижимости?"
   ]
  },
  {
   "cell_type": "code",
   "execution_count": 137,
   "id": "cd1ee1b7",
   "metadata": {},
   "outputs": [
    {
     "data": {
      "text/plain": [
       "(75000.0, 7700000.0)"
      ]
     },
     "execution_count": 137,
     "metadata": {},
     "output_type": "execute_result"
    }
   ],
   "source": [
    "df.price.min(), df.price.max()"
   ]
  },
  {
   "cell_type": "markdown",
   "id": "bc9f3114",
   "metadata": {},
   "source": [
    "Какую долю в среднем занимают жилая площадь от всей площади по всем домам?"
   ]
  },
  {
   "cell_type": "code",
   "execution_count": 138,
   "id": "7945a847",
   "metadata": {},
   "outputs": [
    {
     "data": {
      "text/plain": [
       "0.14"
      ]
     },
     "execution_count": 138,
     "metadata": {},
     "output_type": "execute_result"
    }
   ],
   "source": [
    "round(df.sqft_living.mean()/df.sqft_lot.mean(), 2)"
   ]
  },
  {
   "cell_type": "markdown",
   "id": "388b77a8",
   "metadata": {},
   "source": [
    "Как много домов с разными этажами в данных?"
   ]
  },
  {
   "cell_type": "code",
   "execution_count": 139,
   "id": "23cc3968",
   "metadata": {},
   "outputs": [
    {
     "data": {
      "text/plain": [
       "1.0    10680\n",
       "2.0     8241\n",
       "1.5     1910\n",
       "3.0      613\n",
       "2.5      161\n",
       "3.5        8\n",
       "Name: floors, dtype: int64"
      ]
     },
     "execution_count": 139,
     "metadata": {},
     "output_type": "execute_result"
    }
   ],
   "source": [
    "df.floors.value_counts()"
   ]
  },
  {
   "cell_type": "code",
   "execution_count": 140,
   "id": "79408913",
   "metadata": {},
   "outputs": [
    {
     "data": {
      "text/plain": [
       "6"
      ]
     },
     "execution_count": 140,
     "metadata": {},
     "output_type": "execute_result"
    }
   ],
   "source": [
    "len(df.floors.value_counts())"
   ]
  },
  {
   "cell_type": "markdown",
   "id": "0f971b2b",
   "metadata": {},
   "source": [
    "Насколько хорошие состояния у домов в данных?"
   ]
  },
  {
   "cell_type": "code",
   "execution_count": 141,
   "id": "92cecaa5",
   "metadata": {},
   "outputs": [
    {
     "data": {
      "text/plain": [
       "3    14031\n",
       "4     5679\n",
       "5     1701\n",
       "2      172\n",
       "1       30\n",
       "Name: condition, dtype: int64"
      ]
     },
     "execution_count": 141,
     "metadata": {},
     "output_type": "execute_result"
    }
   ],
   "source": [
    "df.condition.value_counts()"
   ]
  },
  {
   "cell_type": "code",
   "execution_count": 142,
   "id": "77bc87ba",
   "metadata": {},
   "outputs": [
    {
     "data": {
      "text/plain": [
       "array([3, 5, 4, 1, 2], dtype=int64)"
      ]
     },
     "execution_count": 142,
     "metadata": {},
     "output_type": "execute_result"
    }
   ],
   "source": [
    "df.condition.unique()"
   ]
  },
  {
   "cell_type": "markdown",
   "id": "027192f2",
   "metadata": {},
   "source": [
    "Найдите года, когда построили первый дом, когда построили последний дом в данных?"
   ]
  },
  {
   "cell_type": "code",
   "execution_count": 143,
   "id": "58aa27cf",
   "metadata": {},
   "outputs": [
    {
     "data": {
      "text/plain": [
       "(1900, 2015)"
      ]
     },
     "execution_count": 143,
     "metadata": {},
     "output_type": "execute_result"
    }
   ],
   "source": [
    "df.yr_built.min(), df.yr_built.max()"
   ]
  },
  {
   "cell_type": "markdown",
   "id": "0a0ad1a8",
   "metadata": {},
   "source": [
    "### Задача 4"
   ]
  },
  {
   "cell_type": "markdown",
   "id": "6a41bbbe",
   "metadata": {},
   "source": [
    "Сколько в среднем стоят дома, у которых 2 спальни?"
   ]
  },
  {
   "cell_type": "code",
   "execution_count": 144,
   "id": "33324d40",
   "metadata": {},
   "outputs": [
    {
     "data": {
      "text/plain": [
       "2760"
      ]
     },
     "execution_count": 144,
     "metadata": {},
     "output_type": "execute_result"
    }
   ],
   "source": [
    "df[df[\"bedrooms\"] == 2].shape[0]"
   ]
  },
  {
   "cell_type": "code",
   "execution_count": 145,
   "id": "1642ea4f",
   "metadata": {},
   "outputs": [
    {
     "data": {
      "text/plain": [
       "401372.68"
      ]
     },
     "execution_count": 145,
     "metadata": {},
     "output_type": "execute_result"
    }
   ],
   "source": [
    "round(df[df[\"bedrooms\"] == 2].price.mean(), 2)"
   ]
  },
  {
   "cell_type": "markdown",
   "id": "f438fba5",
   "metadata": {},
   "source": [
    "Какая в среднем общая площадь домов, у которых стоимость больше 600 000?"
   ]
  },
  {
   "cell_type": "code",
   "execution_count": 146,
   "id": "c8fcb724",
   "metadata": {},
   "outputs": [
    {
     "data": {
      "text/plain": [
       "6256"
      ]
     },
     "execution_count": 146,
     "metadata": {},
     "output_type": "execute_result"
    }
   ],
   "source": [
    "df[df[\"price\"] > 600000].shape[0]"
   ]
  },
  {
   "cell_type": "code",
   "execution_count": 147,
   "id": "17e6705a",
   "metadata": {},
   "outputs": [
    {
     "data": {
      "text/plain": [
       "20442.525"
      ]
     },
     "execution_count": 147,
     "metadata": {},
     "output_type": "execute_result"
    }
   ],
   "source": [
    "round(df[df[\"price\"] > 600000].sqft_lot.mean(), 3)"
   ]
  },
  {
   "cell_type": "markdown",
   "id": "182a3ed8",
   "metadata": {},
   "source": [
    "Как много домов коснулся ремонт?"
   ]
  },
  {
   "cell_type": "code",
   "execution_count": 148,
   "id": "73b2b355",
   "metadata": {},
   "outputs": [
    {
     "data": {
      "text/plain": [
       "0       20699\n",
       "2014       91\n",
       "2013       37\n",
       "2003       36\n",
       "2005       35\n",
       "2007       35\n",
       "2000       35\n",
       "2004       26\n",
       "1990       25\n",
       "2006       24\n",
       "2002       22\n",
       "2009       22\n",
       "1989       22\n",
       "1991       20\n",
       "1998       19\n",
       "2001       19\n",
       "1994       19\n",
       "1993       19\n",
       "1987       18\n",
       "2010       18\n",
       "2008       18\n",
       "1983       18\n",
       "1984       18\n",
       "1985       17\n",
       "1999       17\n",
       "1992       17\n",
       "1986       17\n",
       "2015       16\n",
       "1995       16\n",
       "1988       15\n",
       "1996       15\n",
       "1997       15\n",
       "2011       13\n",
       "2012       11\n",
       "1980       11\n",
       "1982       11\n",
       "1979       10\n",
       "1970        9\n",
       "1977        8\n",
       "1968        8\n",
       "1978        6\n",
       "1975        6\n",
       "1973        5\n",
       "1965        5\n",
       "1981        5\n",
       "1964        5\n",
       "1958        5\n",
       "1960        4\n",
       "1972        4\n",
       "1963        4\n",
       "1969        4\n",
       "1976        3\n",
       "1974        3\n",
       "1953        3\n",
       "1955        3\n",
       "1956        3\n",
       "1945        3\n",
       "1957        3\n",
       "1950        2\n",
       "1962        2\n",
       "1940        2\n",
       "1946        2\n",
       "1971        2\n",
       "1967        2\n",
       "1934        1\n",
       "1951        1\n",
       "1959        1\n",
       "1948        1\n",
       "1954        1\n",
       "1944        1\n",
       "Name: yr_renovated, dtype: int64"
      ]
     },
     "execution_count": 148,
     "metadata": {},
     "output_type": "execute_result"
    }
   ],
   "source": [
    "df.yr_renovated.value_counts()"
   ]
  },
  {
   "cell_type": "code",
   "execution_count": 149,
   "id": "29a97588",
   "metadata": {},
   "outputs": [
    {
     "data": {
      "text/plain": [
       "914"
      ]
     },
     "execution_count": 149,
     "metadata": {},
     "output_type": "execute_result"
    }
   ],
   "source": [
    "df[(~(df[\"yr_renovated\"] == 0))].shape[0]"
   ]
  },
  {
   "cell_type": "markdown",
   "id": "16b4ee9a",
   "metadata": {},
   "source": [
    "Насколько в среднем стоимость домов с оценкой grade домов выше 10 отличается от стоимости домов с оценкой grade меньше 4?"
   ]
  },
  {
   "cell_type": "code",
   "execution_count": 150,
   "id": "84a8d72e",
   "metadata": {},
   "outputs": [
    {
     "data": {
      "text/plain": [
       "count         4.000000\n",
       "mean     189750.000000\n",
       "std       98001.275502\n",
       "min       75000.000000\n",
       "25%      125250.000000\n",
       "50%      202000.000000\n",
       "75%      266500.000000\n",
       "max      280000.000000\n",
       "Name: price, dtype: float64"
      ]
     },
     "execution_count": 150,
     "metadata": {},
     "output_type": "execute_result"
    }
   ],
   "source": [
    "df[df[\"grade\"] < 4].describe().price"
   ]
  },
  {
   "cell_type": "code",
   "execution_count": 151,
   "id": "a3fbfbcc",
   "metadata": {},
   "outputs": [
    {
     "data": {
      "text/plain": [
       "count        502.00000\n",
       "mean     1678635.11753\n",
       "std       919775.99678\n",
       "min       420000.00000\n",
       "25%      1075000.00000\n",
       "50%      1407500.00000\n",
       "75%      1950000.00000\n",
       "max      7700000.00000\n",
       "Name: price, dtype: object"
      ]
     },
     "execution_count": 151,
     "metadata": {},
     "output_type": "execute_result"
    }
   ],
   "source": [
    "df[df[\"grade\"] > 10].describe().apply(lambda x: x.apply('{0:.5f}'.format)).price"
   ]
  },
  {
   "cell_type": "code",
   "execution_count": 152,
   "id": "152de112",
   "metadata": {},
   "outputs": [
    {
     "data": {
      "text/plain": [
       "1488885.12"
      ]
     },
     "execution_count": 152,
     "metadata": {},
     "output_type": "execute_result"
    }
   ],
   "source": [
    "round(df[df[\"grade\"] > 10].price.mean() - df[df[\"grade\"] < 4].price.mean(), 2)"
   ]
  },
  {
   "cell_type": "markdown",
   "id": "cdd8f379",
   "metadata": {},
   "source": [
    "### Задача 5"
   ]
  },
  {
   "cell_type": "markdown",
   "id": "d8ecd61d",
   "metadata": {},
   "source": [
    "Клиент хочет дом с видом на набережную, как минимум с тремя ванными и с подвалом. Сколько вариантов есть у клиента?"
   ]
  },
  {
   "cell_type": "code",
   "execution_count": 153,
   "id": "aebd08e2",
   "metadata": {},
   "outputs": [
    {
     "data": {
      "text/plain": [
       "array([0, 1], dtype=int64)"
      ]
     },
     "execution_count": 153,
     "metadata": {},
     "output_type": "execute_result"
    }
   ],
   "source": [
    "df.waterfront.unique()"
   ]
  },
  {
   "cell_type": "code",
   "execution_count": 154,
   "id": "4b321731",
   "metadata": {},
   "outputs": [
    {
     "data": {
      "text/plain": [
       "0    21450\n",
       "1      163\n",
       "Name: waterfront, dtype: int64"
      ]
     },
     "execution_count": 154,
     "metadata": {},
     "output_type": "execute_result"
    }
   ],
   "source": [
    "df.waterfront.value_counts()"
   ]
  },
  {
   "cell_type": "code",
   "execution_count": 155,
   "id": "cecb3d50",
   "metadata": {},
   "outputs": [
    {
     "data": {
      "text/plain": [
       "0       13126\n",
       "600       221\n",
       "700       218\n",
       "500       214\n",
       "800       206\n",
       "400       184\n",
       "1000      149\n",
       "900       144\n",
       "300       142\n",
       "200       108\n",
       "Name: sqft_basement, dtype: int64"
      ]
     },
     "execution_count": 155,
     "metadata": {},
     "output_type": "execute_result"
    }
   ],
   "source": [
    "df.sqft_basement.value_counts().head(10)"
   ]
  },
  {
   "cell_type": "code",
   "execution_count": 156,
   "id": "a9e33e55",
   "metadata": {},
   "outputs": [
    {
     "data": {
      "text/plain": [
       "41"
      ]
     },
     "execution_count": 156,
     "metadata": {},
     "output_type": "execute_result"
    }
   ],
   "source": [
    "df[\n",
    "    (df[\"waterfront\"] == 1) &\n",
    "    (df[\"bathrooms\"] >= 3) &\n",
    "    (df[\"sqft_basement\"] > 0)\n",
    "].shape[0]"
   ]
  },
  {
   "cell_type": "markdown",
   "id": "9044552b",
   "metadata": {},
   "source": [
    "Клиент хочет дом либо с очень красивым видом из окна, либо с видом на набережную, в очень хорошем состоянии и год постройки не меньше 1980 года. В какой ценовом диапазоне будут дома?"
   ]
  },
  {
   "cell_type": "code",
   "execution_count": 157,
   "id": "6edc3612",
   "metadata": {},
   "outputs": [
    {
     "data": {
      "text/plain": [
       "array([0, 3, 4, 2, 1], dtype=int64)"
      ]
     },
     "execution_count": 157,
     "metadata": {},
     "output_type": "execute_result"
    }
   ],
   "source": [
    "df.view.unique()"
   ]
  },
  {
   "cell_type": "code",
   "execution_count": 158,
   "id": "d80e7ea7",
   "metadata": {},
   "outputs": [
    {
     "data": {
      "text/plain": [
       "array([3, 5, 4, 1, 2], dtype=int64)"
      ]
     },
     "execution_count": 158,
     "metadata": {},
     "output_type": "execute_result"
    }
   ],
   "source": [
    "df.condition.unique()"
   ]
  },
  {
   "cell_type": "code",
   "execution_count": 159,
   "id": "04d4a8d8",
   "metadata": {},
   "outputs": [
    {
     "data": {
      "text/plain": [
       "26"
      ]
     },
     "execution_count": 159,
     "metadata": {},
     "output_type": "execute_result"
    }
   ],
   "source": [
    "df[\n",
    "    ((df[\"view\"] == 4) | (df[\"waterfront\"] == 1)) &\n",
    "    (df[\"condition\"] > 3) &\n",
    "    (df[\"yr_built\"] >= 1980)\n",
    "].shape[0]"
   ]
  },
  {
   "cell_type": "code",
   "execution_count": 160,
   "id": "1967419a",
   "metadata": {},
   "outputs": [
    {
     "data": {
      "text/plain": [
       "(705000.0, 5300000.0)"
      ]
     },
     "execution_count": 160,
     "metadata": {},
     "output_type": "execute_result"
    }
   ],
   "source": [
    "df[\n",
    "    ((df[\"view\"] == 4) | (df[\"waterfront\"] == 1)) &\n",
    "    (df[\"condition\"] > 3) &\n",
    "    (df[\"yr_built\"] >= 1980)\n",
    "].price.min(), df[\n",
    "    ((df[\"view\"] == 4) | (df[\"waterfront\"] == 1)) &\n",
    "    (df[\"condition\"] > 3) &\n",
    "    (df[\"yr_built\"] >= 1980)\n",
    "].price.max()"
   ]
  },
  {
   "cell_type": "markdown",
   "id": "967bed43",
   "metadata": {},
   "source": [
    "Клиент хочет дом без подвала, с двумя этажами, стоимостью до 150000. Какая оценка по состоянию у таких домов в среднем?"
   ]
  },
  {
   "cell_type": "code",
   "execution_count": 161,
   "id": "6079c5a5",
   "metadata": {},
   "outputs": [
    {
     "data": {
      "text/plain": [
       "2.83"
      ]
     },
     "execution_count": 161,
     "metadata": {},
     "output_type": "execute_result"
    }
   ],
   "source": [
    "round(df[\n",
    "    (df[\"sqft_basement\"] == 0) &\n",
    "    (df[\"floors\"] == 2) &\n",
    "    (df[\"price\"] < 150000)\n",
    "].condition.mean(), 2)"
   ]
  },
  {
   "cell_type": "code",
   "execution_count": null,
   "id": "5eee15ea",
   "metadata": {},
   "outputs": [],
   "source": []
  }
 ],
 "metadata": {
  "kernelspec": {
   "display_name": "Python 3 (ipykernel)",
   "language": "python",
   "name": "python3"
  },
  "language_info": {
   "codemirror_mode": {
    "name": "ipython",
    "version": 3
   },
   "file_extension": ".py",
   "mimetype": "text/x-python",
   "name": "python",
   "nbconvert_exporter": "python",
   "pygments_lexer": "ipython3",
   "version": "3.9.7"
  }
 },
 "nbformat": 4,
 "nbformat_minor": 5
}
