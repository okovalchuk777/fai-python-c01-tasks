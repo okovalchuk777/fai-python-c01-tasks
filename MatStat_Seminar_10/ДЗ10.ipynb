{
 "cells": [
  {
   "cell_type": "markdown",
   "id": "ec5660f1",
   "metadata": {},
   "source": [
    "Урок 10. Дисперсионный анализ\n",
    "\n",
    "Провести дисперсионный анализ для определения того, есть ли различия среднего роста среди взрослых футболистов, хоккеистов и штангистов.\n",
    "\n",
    "Даны значения роста в трех группах случайно выбранных спортсменов:"
   ]
  },
  {
   "cell_type": "code",
   "execution_count": 92,
   "id": "9baaedda",
   "metadata": {},
   "outputs": [],
   "source": [
    "from math import sqrt\n",
    "import numpy as np\n",
    "import pylab\n",
    "import scipy.stats as stats\n",
    "import matplotlib.pyplot as plt\n",
    "from sklearn.metrics import mean_squared_error\n",
    "from scipy.stats import bartlett\n",
    "from statsmodels.stats.multicomp import pairwise_tukeyhsd\n",
    "import pandas as pd"
   ]
  },
  {
   "cell_type": "code",
   "execution_count": 93,
   "id": "1abd2834",
   "metadata": {},
   "outputs": [],
   "source": [
    "footballers = np.array([173, 175, 180, 178, 177, 185, 183, 182])\n",
    "\n",
    "hockeyers = np.array([177, 179, 180, 188, 177, 172, 171, 184, 180])\n",
    "\n",
    "weightlifters = np.array([172, 173, 169, 177, 166, 180, 178, 177, 172, 166, 170])"
   ]
  },
  {
   "cell_type": "code",
   "execution_count": 94,
   "id": "fa7d3647",
   "metadata": {},
   "outputs": [
    {
     "data": {
      "text/plain": [
       "ShapiroResult(statistic=0.9775081276893616, pvalue=0.9495397210121155)"
      ]
     },
     "execution_count": 94,
     "metadata": {},
     "output_type": "execute_result"
    }
   ],
   "source": [
    "stats.shapiro(footballers)"
   ]
  },
  {
   "attachments": {},
   "cell_type": "markdown",
   "id": "cb9aa25f",
   "metadata": {},
   "source": [
    "Вывод: Значение выборки следует нормальному распределению"
   ]
  },
  {
   "cell_type": "code",
   "execution_count": 95,
   "id": "46515c5d",
   "metadata": {},
   "outputs": [
    {
     "data": {
      "text/plain": [
       "ShapiroResult(statistic=0.9579195976257324, pvalue=0.7763133645057678)"
      ]
     },
     "execution_count": 95,
     "metadata": {},
     "output_type": "execute_result"
    }
   ],
   "source": [
    "stats.shapiro(hockeyers)"
   ]
  },
  {
   "attachments": {},
   "cell_type": "markdown",
   "id": "4de75f9f",
   "metadata": {},
   "source": [
    "Вывод: Значение выборки следует нормальному распределению"
   ]
  },
  {
   "cell_type": "code",
   "execution_count": 96,
   "id": "5f31fab1",
   "metadata": {},
   "outputs": [
    {
     "data": {
      "text/plain": [
       "ShapiroResult(statistic=0.93868088722229, pvalue=0.5051169991493225)"
      ]
     },
     "execution_count": 96,
     "metadata": {},
     "output_type": "execute_result"
    }
   ],
   "source": [
    "stats.shapiro(weightlifters)"
   ]
  },
  {
   "attachments": {},
   "cell_type": "markdown",
   "id": "70b5906c",
   "metadata": {},
   "source": [
    "Вывод: Значение выборки следует нормальному распределению"
   ]
  },
  {
   "cell_type": "code",
   "execution_count": 97,
   "id": "5cbe9014",
   "metadata": {},
   "outputs": [
    {
     "data": {
      "text/plain": [
       "BartlettResult(statistic=0.4640521043406442, pvalue=0.7929254656083131)"
      ]
     },
     "execution_count": 97,
     "metadata": {},
     "output_type": "execute_result"
    }
   ],
   "source": [
    "stats.bartlett(footballers,hockeyers,weightlifters)"
   ]
  },
  {
   "attachments": {},
   "cell_type": "markdown",
   "id": "40c9ba02",
   "metadata": {},
   "source": [
    "Вывод: Однородность (равенство) дисперсий и размеры выборок у нас разные.\n",
    "Если были бы одинаковые - то неоднородность дисперсий слабо влияет на результат!"
   ]
  },
  {
   "cell_type": "code",
   "execution_count": 98,
   "id": "de725852",
   "metadata": {},
   "outputs": [
    {
     "data": {
      "text/plain": [
       "8"
      ]
     },
     "execution_count": 98,
     "metadata": {},
     "output_type": "execute_result"
    }
   ],
   "source": [
    "len(footballers)"
   ]
  },
  {
   "cell_type": "code",
   "execution_count": 99,
   "id": "4983fa93",
   "metadata": {},
   "outputs": [
    {
     "data": {
      "text/plain": [
       "9"
      ]
     },
     "execution_count": 99,
     "metadata": {},
     "output_type": "execute_result"
    }
   ],
   "source": [
    "len(hockeyers)"
   ]
  },
  {
   "cell_type": "code",
   "execution_count": 100,
   "id": "b0a6f1d3",
   "metadata": {},
   "outputs": [
    {
     "data": {
      "text/plain": [
       "11"
      ]
     },
     "execution_count": 100,
     "metadata": {},
     "output_type": "execute_result"
    }
   ],
   "source": [
    "len(weightlifters)"
   ]
  },
  {
   "cell_type": "markdown",
   "id": "b53a8bc9",
   "metadata": {},
   "source": [
    " ANOVA (дисперсионный анализ, ANalysis Of VAriance) имеет несбалансированный дизайн, так как размеры выборок не одинаковы. Если бы размеры выборок были одинаковы, то ANOVA имела бы сбалансированный дизайн ,"
   ]
  },
  {
   "cell_type": "markdown",
   "id": "149a2a8a",
   "metadata": {},
   "source": [
    "Однако, если вам нужно провести эксперимент с несбалансированной схемой, у вас есть три варианта:\n",
    "\n",
    "1. В любом случае выполните дисперсионный анализ.\n",
    "\n",
    "Хорошо известно, что дисперсионный анализ довольно устойчив к неравным размерам выборки, если дисперсии для каждой комбинации обработок по-прежнему равны."
   ]
  },
  {
   "cell_type": "code",
   "execution_count": 101,
   "id": "e3e62e7f",
   "metadata": {},
   "outputs": [
    {
     "data": {
      "text/plain": [
       "F_onewayResult(statistic=5.500053450812596, pvalue=0.010482206918698694)"
      ]
     },
     "execution_count": 101,
     "metadata": {},
     "output_type": "execute_result"
    }
   ],
   "source": [
    "stats.f_oneway(footballers,hockeyers,weightlifters)"
   ]
  },
  {
   "cell_type": "markdown",
   "id": "c2d8df96",
   "metadata": {},
   "source": [
    "В данном случае, если взять статистическую значимость на уровне 1% и меньше - то у нас не существует разницы в росте между группами.\n",
    "В остальных случаях, если статистическая значимость больше 1% - то у нас существует разница в росте между группами."
   ]
  },
  {
   "cell_type": "markdown",
   "id": "787de668",
   "metadata": {},
   "source": [
    "2. Вставьте пропущенные значения.\n",
    "\n",
    "Если имеются лишь незначительные различия между размерами выборок, вы можете заполнить пропущенные значения, используя среднее значение или медиану уровней лечения.\n",
    "\n",
    "Однако этот подход следует использовать с осторожностью, и его следует использовать только в том случае, если размеры выборки с самого начала почти равны."
   ]
  },
  {
   "cell_type": "code",
   "execution_count": 102,
   "id": "06dfcb0a",
   "metadata": {},
   "outputs": [
    {
     "data": {
      "text/plain": [
       "179"
      ]
     },
     "execution_count": 102,
     "metadata": {},
     "output_type": "execute_result"
    }
   ],
   "source": [
    "int(np.mean(footballers))"
   ]
  },
  {
   "cell_type": "code",
   "execution_count": 103,
   "id": "caa9097a",
   "metadata": {},
   "outputs": [
    {
     "data": {
      "text/plain": [
       "178"
      ]
     },
     "execution_count": 103,
     "metadata": {},
     "output_type": "execute_result"
    }
   ],
   "source": [
    "int(np.mean(hockeyers))"
   ]
  },
  {
   "cell_type": "code",
   "execution_count": 104,
   "id": "d6016fc8",
   "metadata": {},
   "outputs": [
    {
     "data": {
      "text/plain": [
       "172"
      ]
     },
     "execution_count": 104,
     "metadata": {},
     "output_type": "execute_result"
    }
   ],
   "source": [
    "int(np.mean(weightlifters))"
   ]
  },
  {
   "cell_type": "code",
   "execution_count": 105,
   "id": "3f646c6f",
   "metadata": {},
   "outputs": [],
   "source": [
    "footballers_mod = np.array([173, 175, 180, 178, 177, 185, 183, 182, 179, 179, 179])\n",
    "\n",
    "hockeyers_mod = np.array([177, 179, 180, 188, 177, 172, 171, 184, 180, 178, 178])\n",
    "\n",
    "weightlifters_mod = np.array([172, 173, 169, 177, 166, 180, 178, 177, 172, 166, 170])"
   ]
  },
  {
   "cell_type": "code",
   "execution_count": 106,
   "id": "7db06236",
   "metadata": {},
   "outputs": [
    {
     "data": {
      "text/plain": [
       "ShapiroResult(statistic=0.9789078235626221, pvalue=0.9597837328910828)"
      ]
     },
     "execution_count": 106,
     "metadata": {},
     "output_type": "execute_result"
    }
   ],
   "source": [
    "stats.shapiro(footballers_mod)"
   ]
  },
  {
   "cell_type": "code",
   "execution_count": 107,
   "id": "bb602a0d",
   "metadata": {},
   "outputs": [
    {
     "data": {
      "text/plain": [
       "ShapiroResult(statistic=0.9416776895523071, pvalue=0.5404185652732849)"
      ]
     },
     "execution_count": 107,
     "metadata": {},
     "output_type": "execute_result"
    }
   ],
   "source": [
    "stats.shapiro(hockeyers_mod)"
   ]
  },
  {
   "cell_type": "code",
   "execution_count": 108,
   "id": "d92bc1ab",
   "metadata": {},
   "outputs": [
    {
     "data": {
      "text/plain": [
       "ShapiroResult(statistic=0.93868088722229, pvalue=0.5051169991493225)"
      ]
     },
     "execution_count": 108,
     "metadata": {},
     "output_type": "execute_result"
    }
   ],
   "source": [
    "stats.shapiro(weightlifters_mod)"
   ]
  },
  {
   "cell_type": "code",
   "execution_count": 109,
   "id": "8e4d7756",
   "metadata": {},
   "outputs": [
    {
     "data": {
      "text/plain": [
       "BartlettResult(statistic=1.2655702710378092, pvalue=0.5311105244003997)"
      ]
     },
     "execution_count": 109,
     "metadata": {},
     "output_type": "execute_result"
    }
   ],
   "source": [
    "stats.bartlett(footballers_mod,hockeyers_mod,weightlifters_mod)"
   ]
  },
  {
   "attachments": {},
   "cell_type": "markdown",
   "id": "2ea594ec",
   "metadata": {},
   "source": [
    "Вывод: Однородность (равенство) дисперсий и размеры выборок у нас разные.\n",
    "Если были бы одинаковые - то неоднородность дисперсий слабо влияет на результат!"
   ]
  },
  {
   "cell_type": "code",
   "execution_count": 110,
   "id": "a05032ab",
   "metadata": {},
   "outputs": [
    {
     "data": {
      "text/plain": [
       "F_onewayResult(statistic=7.105097545626178, pvalue=0.002978395384820739)"
      ]
     },
     "execution_count": 110,
     "metadata": {},
     "output_type": "execute_result"
    }
   ],
   "source": [
    "stats.f_oneway(footballers_mod,hockeyers_mod,weightlifters_mod)"
   ]
  },
  {
   "cell_type": "markdown",
   "id": "2ec1f3bd",
   "metadata": {},
   "source": [
    "В данном случае видно что у нас существует разница в росте между группами, даже если мы выставим статистическую значимость 1%."
   ]
  },
  {
   "cell_type": "code",
   "execution_count": 111,
   "id": "f8f72861",
   "metadata": {},
   "outputs": [],
   "source": [
    "df=pd.DataFrame({\"score\":[173, 175, 180, 178, 177, 185, 183, 182, 179, 179, 179, 177, 179, 180, 188, 177, 172, 171, 184, 180, 178, 178, 172, 173, 169, 177, 166, 180, 178, 177, 172, 166, 170],\n",
    "                 \"group\":np.repeat([\"footballers_mod\",\"hockeyers_mod\",\"weightlifters_mod\"], repeats =11)})"
   ]
  },
  {
   "cell_type": "code",
   "execution_count": 112,
   "id": "ee4d2711",
   "metadata": {},
   "outputs": [
    {
     "name": "stdout",
     "output_type": "stream",
     "text": [
      "           Multiple Comparison of Means - Tukey HSD, FWER=0.05           \n",
      "=========================================================================\n",
      "     group1           group2      meandiff p-adj   lower    upper  reject\n",
      "-------------------------------------------------------------------------\n",
      "footballers_mod     hockeyers_mod  -0.5455    0.9  -5.1578  4.0669  False\n",
      "footballers_mod weightlifters_mod  -6.3636 0.0053  -10.976 -1.7513   True\n",
      "  hockeyers_mod weightlifters_mod  -5.8182 0.0111 -10.4306 -1.2058   True\n",
      "-------------------------------------------------------------------------\n"
     ]
    }
   ],
   "source": [
    "tukey=pairwise_tukeyhsd(df[\"score\"],\n",
    "                        df[\"group\"],\n",
    "                        alpha =0.05)\n",
    "print(tukey)"
   ]
  },
  {
   "cell_type": "markdown",
   "id": "af7b7a49",
   "metadata": {},
   "source": [
    "Можно сделать выводы: \n",
    "\n",
    "1) НЕ существует разницы в росте между группами footballers_mod и hockeyers_mod (False)\n",
    "\n",
    "2) СУЩЕСТВУЕТ разница в росте между группами footballers_mod и weightlifters_mod (True), hockeyers_mod и weightlifters_mod (True)"
   ]
  },
  {
   "cell_type": "markdown",
   "id": "de6a28b7",
   "metadata": {},
   "source": [
    "3. Выполните непараметрический тест."
   ]
  },
  {
   "cell_type": "markdown",
   "id": "45917747",
   "metadata": {},
   "source": [
    "Если размеры выборки не равны и предположение о равных дисперсиях нарушается (допустим, хотя в нашем случае не так), вы можете вместо этого выполнить непараметрический эквивалент ANOVA, такой как критерий Крускала-Уоллиса .\n",
    "\n",
    "Этот тип теста гораздо более устойчив к неравным размерам выборки и неодинаковой дисперсии."
   ]
  },
  {
   "cell_type": "code",
   "execution_count": 113,
   "id": "a25c9a9e",
   "metadata": {},
   "outputs": [
    {
     "data": {
      "text/plain": [
       "KruskalResult(statistic=7.897493213863828, pvalue=0.01927885061595347)"
      ]
     },
     "execution_count": 113,
     "metadata": {},
     "output_type": "execute_result"
    }
   ],
   "source": [
    "stats.kruskal(footballers,hockeyers,weightlifters)"
   ]
  },
  {
   "cell_type": "markdown",
   "id": "b40e2ae6",
   "metadata": {},
   "source": [
    "В данном случае, если взять статистическую значимость на уровне 1,9% и меньше - то у нас не существует разницы в росте между группами.\n",
    "В остальных случаях, если статистическая значимость больше 1,9% - то у нас существует разница в росте между группами."
   ]
  },
  {
   "cell_type": "code",
   "execution_count": null,
   "id": "c96ba9e2",
   "metadata": {},
   "outputs": [],
   "source": []
  },
  {
   "cell_type": "markdown",
   "id": "94969ae1",
   "metadata": {},
   "source": [
    "Если размеры выборки не равны, можно использовать модифицированную версию теста Тьюки, известную как тест Тьюки-Крамера."
   ]
  },
  {
   "cell_type": "code",
   "execution_count": null,
   "id": "de1453cc",
   "metadata": {},
   "outputs": [],
   "source": []
  }
 ],
 "metadata": {
  "kernelspec": {
   "display_name": "Python 3 (ipykernel)",
   "language": "python",
   "name": "python3"
  },
  "language_info": {
   "codemirror_mode": {
    "name": "ipython",
    "version": 3
   },
   "file_extension": ".py",
   "mimetype": "text/x-python",
   "name": "python",
   "nbconvert_exporter": "python",
   "pygments_lexer": "ipython3",
   "version": "3.9.7"
  }
 },
 "nbformat": 4,
 "nbformat_minor": 5
}
